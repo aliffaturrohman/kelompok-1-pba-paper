{
 "cells": [
  {
   "cell_type": "code",
   "execution_count": 1,
   "id": "4fa18410",
   "metadata": {},
   "outputs": [
    {
     "name": "stdout",
     "output_type": "stream",
     "text": [
      "Collecting beautifulsoup4\n",
      "  Downloading beautifulsoup4-4.14.2-py3-none-any.whl.metadata (3.8 kB)\n",
      "Requirement already satisfied: requests in c:\\users\\hilice\\appdata\\local\\programs\\python\\python313\\lib\\site-packages (2.32.5)\n",
      "Collecting soupsieve>1.2 (from beautifulsoup4)\n",
      "  Downloading soupsieve-2.8-py3-none-any.whl.metadata (4.6 kB)\n",
      "Requirement already satisfied: typing-extensions>=4.0.0 in c:\\users\\hilice\\appdata\\local\\programs\\python\\python313\\lib\\site-packages (from beautifulsoup4) (4.12.2)\n",
      "Requirement already satisfied: charset_normalizer<4,>=2 in c:\\users\\hilice\\appdata\\local\\programs\\python\\python313\\lib\\site-packages (from requests) (3.4.3)\n",
      "Requirement already satisfied: idna<4,>=2.5 in c:\\users\\hilice\\appdata\\local\\programs\\python\\python313\\lib\\site-packages (from requests) (3.10)\n",
      "Requirement already satisfied: urllib3<3,>=1.21.1 in c:\\users\\hilice\\appdata\\local\\programs\\python\\python313\\lib\\site-packages (from requests) (2.5.0)\n",
      "Requirement already satisfied: certifi>=2017.4.17 in c:\\users\\hilice\\appdata\\local\\programs\\python\\python313\\lib\\site-packages (from requests) (2025.8.3)\n",
      "Downloading beautifulsoup4-4.14.2-py3-none-any.whl (106 kB)\n",
      "Downloading soupsieve-2.8-py3-none-any.whl (36 kB)\n",
      "Installing collected packages: soupsieve, beautifulsoup4\n",
      "\n",
      "   -------------------- ------------------- 1/2 [beautifulsoup4]\n",
      "   -------------------- ------------------- 1/2 [beautifulsoup4]\n",
      "   ---------------------------------------- 2/2 [beautifulsoup4]\n",
      "\n",
      "Successfully installed beautifulsoup4-4.14.2 soupsieve-2.8\n"
     ]
    }
   ],
   "source": [
    "!pip install beautifulsoup4 requests"
   ]
  },
  {
   "cell_type": "code",
   "execution_count": null,
   "id": "c8f486b4",
   "metadata": {},
   "outputs": [],
   "source": [
    "# Install necessary libraries (if not already installed)\n",
    "!pip install beautifulsoup4 requests pandas -q\n",
    "!pip install openpyxl -q\n",
    "\n",
    "import requests\n",
    "from bs4 import BeautifulSoup\n",
    "import pandas as pd\n",
    "\n",
    "# Read URLs from an Excel file (replace 'urls.xlsx' with your file path)\n",
    "excel_path = 'data/artikel_damri.xlsx'  \n",
    "df_urls = pd.read_excel(excel_path, engine='openpyxl')\n",
    "\n",
    "# If the sheet has a column named 'url' use it, otherwise use the first column\n",
    "if 'link' in [c.lower() for c in df_urls.columns]:\n",
    "    # find the actual column name matching 'url' (case-insensitive)\n",
    "    url_col = next(c for c in df_urls.columns if c.lower() == 'link')\n",
    "    urls = df_urls[url_col].dropna().astype(str).tolist()\n",
    "else:\n",
    "    urls = df_urls.iloc[:, 0].dropna().astype(str).tolist()\n",
    "\n",
    "# Function to scrape content from a URL\n",
    "def scrape_content(url):\n",
    "    try:\n",
    "        response = requests.get(url)\n",
    "        if response.status_code == 200:\n",
    "            soup = BeautifulSoup(response.content, 'html.parser')\n",
    "\n",
    "            # Extract the title of the article\n",
    "            title = soup.find('title').text\n",
    "\n",
    "            # Extract the article's content\n",
    "            paragraphs = soup.find_all('p')\n",
    "            content = \"\\n\".join([para.text for para in paragraphs])\n",
    "\n",
    "            return {\n",
    "                \"url\": url,\n",
    "                \"title\": title,\n",
    "                \"content\": content\n",
    "            }\n",
    "        else:\n",
    "            return {\n",
    "                \"url\": url,\n",
    "                \"title\": None,\n",
    "                \"content\": None,\n",
    "                \"error\": f\"Failed to fetch page, status code: {response.status_code}\"\n",
    "            }\n",
    "    except Exception as e:\n",
    "        return {\n",
    "            \"url\": url,\n",
    "            \"title\": None,\n",
    "            \"content\": None,\n",
    "            \"error\": str(e)\n",
    "        }\n",
    "\n",
    "# Scrape each URL and store the results in a list of dictionaries\n",
    "data = []\n",
    "for url in urls:\n",
    "    result = scrape_content(url)\n",
    "    data.append(result)\n",
    "\n",
    "# Create a pandas DataFrame from the list of dictionaries\n",
    "df = pd.DataFrame(data)\n",
    "\n",
    "# Display the DataFrame\n",
    "df.head()\n",
    "\n",
    "# Save the DataFrame to a CSV file (optional)\n",
    "df.to_csv('data/scraped_articles.csv', index=False)"
   ]
  }
 ],
 "metadata": {
  "kernelspec": {
   "display_name": "Python 3",
   "language": "python",
   "name": "python3"
  },
  "language_info": {
   "codemirror_mode": {
    "name": "ipython",
    "version": 3
   },
   "file_extension": ".py",
   "mimetype": "text/x-python",
   "name": "python",
   "nbconvert_exporter": "python",
   "pygments_lexer": "ipython3",
   "version": "3.13.7"
  }
 },
 "nbformat": 4,
 "nbformat_minor": 5
}
